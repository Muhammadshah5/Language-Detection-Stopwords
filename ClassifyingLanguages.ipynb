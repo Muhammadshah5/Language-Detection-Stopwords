{
  "cells": [
    {
      "cell_type": "markdown",
      "id": "79601988",
      "metadata": {
        "id": "79601988"
      },
      "source": [
        "# Question\n",
        " Classify language out of the list given below using just stop words. Remove punctuations, make it lower."
      ]
    },
    {
      "cell_type": "code",
      "execution_count": null,
      "id": "fa286b84",
      "metadata": {
        "colab": {
          "base_uri": "https://localhost:8080/"
        },
        "id": "fa286b84",
        "outputId": "3760d9ab-0916-4b33-d1c4-be12be6a7a1d"
      },
      "outputs": [
        {
          "data": {
            "text/plain": [
              "['arabic',\n",
              " 'azerbaijani',\n",
              " 'basque',\n",
              " 'bengali',\n",
              " 'catalan',\n",
              " 'chinese',\n",
              " 'danish',\n",
              " 'dutch',\n",
              " 'english',\n",
              " 'finnish',\n",
              " 'french',\n",
              " 'german',\n",
              " 'greek',\n",
              " 'hebrew',\n",
              " 'hinglish',\n",
              " 'hungarian',\n",
              " 'indonesian',\n",
              " 'italian',\n",
              " 'kazakh',\n",
              " 'nepali',\n",
              " 'norwegian',\n",
              " 'portuguese',\n",
              " 'romanian',\n",
              " 'russian',\n",
              " 'slovene',\n",
              " 'spanish',\n",
              " 'swedish',\n",
              " 'tajik',\n",
              " 'turkish']"
            ]
          },
          "execution_count": 69,
          "metadata": {},
          "output_type": "execute_result"
        }
      ],
      "source": [
        "import nltk\n",
        "from nltk.corpus import stopwords\n",
        "stopwords.fileids()"
      ]
    },
    {
      "cell_type": "code",
      "execution_count": null,
      "id": "1bdad25b",
      "metadata": {
        "colab": {
          "base_uri": "https://localhost:8080/"
        },
        "id": "1bdad25b",
        "outputId": "5d2cc4f9-9a4f-4e38-c0da-415eb2b8649d"
      },
      "outputs": [
        {
          "data": {
            "text/plain": [
              "{'azerbaijani': 1,\n",
              " 'catalan': 3,\n",
              " 'dutch': 3,\n",
              " 'english': 5,\n",
              " 'french': 1,\n",
              " 'german': 1,\n",
              " 'hinglish': 8,\n",
              " 'hungarian': 1,\n",
              " 'indonesian': 1,\n",
              " 'italian': 2,\n",
              " 'portuguese': 1,\n",
              " 'romanian': 1,\n",
              " 'spanish': 1}"
            ]
          },
          "execution_count": 70,
          "metadata": {},
          "output_type": "execute_result"
        }
      ],
      "source": [
        "from nltk.tokenize import word_tokenize\n",
        "from nltk.corpus import stopwords\n",
        "Text=\"An article is qualunque member van un class of dedicated words naquele estão used with noun phrases per mark the identifiability of the referents of the noun phrases\"\n",
        "\n",
        "#converting all text to lower text so easier to classify\n",
        "lowerT=Text.lower()\n",
        "\n",
        "#making tokens of text\n",
        "words = word_tokenize(lowerT)\n",
        "\n",
        "\n",
        "# Filtering out non-alphabetic words\n",
        "filteredWords = []\n",
        "for word in words:\n",
        "    if word.isalpha():\n",
        "        filteredWords.append(word)\n",
        "\n",
        "# Initialize a dictionary to store count of stopwords for each language\n",
        "languages=stopwords.fileids()\n",
        "stopword_count={}\n",
        "\n",
        "\n",
        "# Iterate over each language\n",
        "for lang in languages:\n",
        "  count=0\n",
        "  stop_words=set(stopwords.words(lang))\n",
        "  for i in stop_words:\n",
        "    if i in filteredWords:\n",
        "      count=count+1\n",
        "      stopword_count[lang]=count\n",
        "\n",
        "stopword_count\n",
        "# stop_words = set(stopwords.words('english'))\n",
        "# stop_words\n",
        "# count=0\n",
        "# for i in stop_words :\n",
        "#   if i in filteredWords:\n",
        "#     print (i)\n",
        "#     count=count+1\n",
        "# count\n"
      ]
    }
  ],
  "metadata": {
    "colab": {
      "provenance": []
    },
    "kernelspec": {
      "display_name": "Python 3 (ipykernel)",
      "language": "python",
      "name": "python3"
    },
    "language_info": {
      "codemirror_mode": {
        "name": "ipython",
        "version": 3
      },
      "file_extension": ".py",
      "mimetype": "text/x-python",
      "name": "python",
      "nbconvert_exporter": "python",
      "pygments_lexer": "ipython3",
      "version": "3.9.7"
    }
  },
  "nbformat": 4,
  "nbformat_minor": 5
}
